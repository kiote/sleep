{
 "cells": [
  {
   "cell_type": "code",
   "execution_count": 2,
   "metadata": {
    "collapsed": true
   },
   "outputs": [],
   "source": [
    "import pandas as pd\n",
    "import numpy as np\n",
    "import seaborn as sns\n",
    "from matplotlib import pyplot as plt\n",
    "%matplotlib inline"
   ]
  },
  {
   "cell_type": "code",
   "execution_count": 10,
   "metadata": {
    "collapsed": false
   },
   "outputs": [],
   "source": [
    "# read raw data\n",
    "df = pd.read_csv('sleep_mammal.txt', sep='\\t')"
   ]
  },
  {
   "cell_type": "markdown",
   "metadata": {},
   "source": [
    "## Let's see what we have"
   ]
  },
  {
   "cell_type": "code",
   "execution_count": 12,
   "metadata": {
    "collapsed": false
   },
   "outputs": [
    {
     "data": {
      "text/html": [
       "<div>\n",
       "<table border=\"1\" class=\"dataframe\">\n",
       "  <thead>\n",
       "    <tr style=\"text-align: right;\">\n",
       "      <th></th>\n",
       "      <th>Species</th>\n",
       "      <th>BodyWt</th>\n",
       "      <th>BrainWt</th>\n",
       "      <th>NonDreaming</th>\n",
       "      <th>Dreaming</th>\n",
       "      <th>TotalSleep</th>\n",
       "      <th>LifeSpan</th>\n",
       "      <th>Gestation</th>\n",
       "      <th>Predation</th>\n",
       "      <th>Exposure</th>\n",
       "      <th>Danger</th>\n",
       "    </tr>\n",
       "  </thead>\n",
       "  <tbody>\n",
       "    <tr>\n",
       "      <th>0</th>\n",
       "      <td>Africanelephant</td>\n",
       "      <td>6654.000</td>\n",
       "      <td>5712.0</td>\n",
       "      <td>NaN</td>\n",
       "      <td>NaN</td>\n",
       "      <td>3.3</td>\n",
       "      <td>38.6</td>\n",
       "      <td>645.0</td>\n",
       "      <td>3</td>\n",
       "      <td>5</td>\n",
       "      <td>3</td>\n",
       "    </tr>\n",
       "    <tr>\n",
       "      <th>1</th>\n",
       "      <td>Africangiantpouchedrat</td>\n",
       "      <td>1.000</td>\n",
       "      <td>6.6</td>\n",
       "      <td>6.3</td>\n",
       "      <td>2.0</td>\n",
       "      <td>8.3</td>\n",
       "      <td>4.5</td>\n",
       "      <td>42.0</td>\n",
       "      <td>3</td>\n",
       "      <td>1</td>\n",
       "      <td>3</td>\n",
       "    </tr>\n",
       "    <tr>\n",
       "      <th>2</th>\n",
       "      <td>ArcticFox</td>\n",
       "      <td>3.385</td>\n",
       "      <td>44.5</td>\n",
       "      <td>NaN</td>\n",
       "      <td>NaN</td>\n",
       "      <td>12.5</td>\n",
       "      <td>14.0</td>\n",
       "      <td>60.0</td>\n",
       "      <td>1</td>\n",
       "      <td>1</td>\n",
       "      <td>1</td>\n",
       "    </tr>\n",
       "    <tr>\n",
       "      <th>3</th>\n",
       "      <td>Arcticgroundsquirrel</td>\n",
       "      <td>0.920</td>\n",
       "      <td>5.7</td>\n",
       "      <td>NaN</td>\n",
       "      <td>NaN</td>\n",
       "      <td>16.5</td>\n",
       "      <td>NaN</td>\n",
       "      <td>25.0</td>\n",
       "      <td>5</td>\n",
       "      <td>2</td>\n",
       "      <td>3</td>\n",
       "    </tr>\n",
       "    <tr>\n",
       "      <th>4</th>\n",
       "      <td>Asianelephant</td>\n",
       "      <td>2547.000</td>\n",
       "      <td>4603.0</td>\n",
       "      <td>2.1</td>\n",
       "      <td>1.8</td>\n",
       "      <td>3.9</td>\n",
       "      <td>69.0</td>\n",
       "      <td>624.0</td>\n",
       "      <td>3</td>\n",
       "      <td>5</td>\n",
       "      <td>4</td>\n",
       "    </tr>\n",
       "  </tbody>\n",
       "</table>\n",
       "</div>"
      ],
      "text/plain": [
       "                  Species    BodyWt  BrainWt  NonDreaming  Dreaming  \\\n",
       "0         Africanelephant  6654.000   5712.0          NaN       NaN   \n",
       "1  Africangiantpouchedrat     1.000      6.6          6.3       2.0   \n",
       "2               ArcticFox     3.385     44.5          NaN       NaN   \n",
       "3    Arcticgroundsquirrel     0.920      5.7          NaN       NaN   \n",
       "4           Asianelephant  2547.000   4603.0          2.1       1.8   \n",
       "\n",
       "   TotalSleep  LifeSpan  Gestation  Predation  Exposure  Danger  \n",
       "0         3.3      38.6      645.0          3         5       3  \n",
       "1         8.3       4.5       42.0          3         1       3  \n",
       "2        12.5      14.0       60.0          1         1       1  \n",
       "3        16.5       NaN       25.0          5         2       3  \n",
       "4         3.9      69.0      624.0          3         5       4  "
      ]
     },
     "execution_count": 12,
     "metadata": {},
     "output_type": "execute_result"
    }
   ],
   "source": [
    "df.head()"
   ]
  },
  {
   "cell_type": "markdown",
   "metadata": {},
   "source": [
    "## Data description\n",
    "\n",
    "Includes brain and body weight, life span, gestation time, time sleeping, and predation and danger indices for 62 species of mammals.\n",
    "\n",
    "_BodyWt_:  body weight (kg)\n",
    "\n",
    "_BrainWt_: brain weight (g)\n",
    "\n",
    "_NonDreaming_: slow wave (\"nondreaming\") sleep (hrs/day)\n",
    "\n",
    "_Dreaming_: paradoxical (\"dreaming\") sleep (hrs/day)\n",
    "\n",
    "_TotalSleep_: total sleep, sum of slow wave and paradoxical sleep (hrs/day)\n",
    "\n",
    "_LifeSpan_: maximum life span (years)\n",
    "\n",
    "_Gestation_: gestation time (days)\n",
    "\n",
    "_Predation_: predation index (1-5)\n",
    "1 = minimum (least likely to be preyed upon); 5 = maximum (most likely to be preyed upon)\n",
    "\n",
    "_Exposure_: sleep exposure index (1-5)\n",
    "1 = least exposed (e.g. animal sleeps in a well-protected den); 5 = most exposed\n",
    "\n",
    "_Danger_: overall danger index (1-5) (based on the above two indices and other information)\n",
    "1 = least danger (from other animals); 5 = most danger (from other animals)"
   ]
  },
  {
   "cell_type": "markdown",
   "metadata": {},
   "source": [
    "## NA values\n",
    "\n",
    "in a future analysys NA values could be a problem, so let's see if we have NAs at all and if we do, what if we remove data with NAs:"
   ]
  },
  {
   "cell_type": "code",
   "execution_count": 11,
   "metadata": {
    "collapsed": false
   },
   "outputs": [
    {
     "name": "stdout",
     "output_type": "stream",
     "text": [
      "Raw data shape:  (62, 11)\n",
      "Drop all NAs:  (42, 11)\n"
     ]
    }
   ],
   "source": [
    "print('Raw data shape: ', df.shape)\n",
    "print('Drop all NAs: ', df.dropna().shape)"
   ]
  },
  {
   "cell_type": "markdown",
   "metadata": {},
   "source": [
    "After NAs removing, we have 20 species less, than before, that's a significant amount since we have just 62 species in total!\n"
   ]
  },
  {
   "cell_type": "markdown",
   "metadata": {},
   "source": [
    "What data is missing:"
   ]
  },
  {
   "cell_type": "code",
   "execution_count": 73,
   "metadata": {
    "collapsed": false
   },
   "outputs": [
    {
     "name": "stdout",
     "output_type": "stream",
     "text": [
      "<class 'pandas.core.frame.DataFrame'>\n",
      "RangeIndex: 62 entries, 0 to 61\n",
      "Data columns (total 11 columns):\n",
      "Species        62 non-null object\n",
      "BodyWt         62 non-null float64\n",
      "BrainWt        62 non-null float64\n",
      "NonDreaming    48 non-null float64\n",
      "Dreaming       50 non-null float64\n",
      "TotalSleep     58 non-null float64\n",
      "LifeSpan       58 non-null float64\n",
      "Gestation      58 non-null float64\n",
      "Predation      62 non-null int64\n",
      "Exposure       62 non-null int64\n",
      "Danger         62 non-null int64\n",
      "dtypes: float64(7), int64(3), object(1)\n",
      "memory usage: 5.4+ KB\n"
     ]
    }
   ],
   "source": [
    "df.info()"
   ]
  },
  {
   "cell_type": "markdown",
   "metadata": {},
   "source": [
    "Let's see for which concrete species we don't have total sleep:"
   ]
  },
  {
   "cell_type": "code",
   "execution_count": 59,
   "metadata": {
    "collapsed": false
   },
   "outputs": [
    {
     "name": "stdout",
     "output_type": "stream",
     "text": [
      "20                 Giraffe\n",
      "30                Kangaroo\n",
      "40                   Okapi\n",
      "61    Yellow-belliedmarmot\n",
      "Name: Species, dtype: object\n"
     ]
    }
   ],
   "source": [
    "print(df.Species[df.TotalSleep.isnull()])"
   ]
  },
  {
   "cell_type": "code",
   "execution_count": 81,
   "metadata": {
    "collapsed": false
   },
   "outputs": [
    {
     "name": "stderr",
     "output_type": "stream",
     "text": [
      "/Users/kiote/anaconda/lib/python3.5/site-packages/ipykernel/__main__.py:2: SettingWithCopyWarning: \n",
      "A value is trying to be set on a copy of a slice from a DataFrame\n",
      "\n",
      "See the caveats in the documentation: http://pandas.pydata.org/pandas-docs/stable/indexing.html#indexing-view-versus-copy\n",
      "  from ipykernel import kernelapp as app\n",
      "/Users/kiote/anaconda/lib/python3.5/site-packages/ipykernel/__main__.py:3: SettingWithCopyWarning: \n",
      "A value is trying to be set on a copy of a slice from a DataFrame\n",
      "\n",
      "See the caveats in the documentation: http://pandas.pydata.org/pandas-docs/stable/indexing.html#indexing-view-versus-copy\n",
      "  app.launch_new_instance()\n",
      "/Users/kiote/anaconda/lib/python3.5/site-packages/ipykernel/__main__.py:4: SettingWithCopyWarning: \n",
      "A value is trying to be set on a copy of a slice from a DataFrame\n",
      "\n",
      "See the caveats in the documentation: http://pandas.pydata.org/pandas-docs/stable/indexing.html#indexing-view-versus-copy\n",
      "/Users/kiote/anaconda/lib/python3.5/site-packages/ipykernel/__main__.py:6: SettingWithCopyWarning: \n",
      "A value is trying to be set on a copy of a slice from a DataFrame\n",
      "\n",
      "See the caveats in the documentation: http://pandas.pydata.org/pandas-docs/stable/indexing.html#indexing-view-versus-copy\n"
     ]
    }
   ],
   "source": [
    "# we know from wikipedia that these species sleep these amount of time\n",
    "df['TotalSleep'][df.Species == 'Giraffe'] = 1.9\n",
    "df['TotalSleep'][df.Species == 'Kangaroo'] = 8\n",
    "df['TotalSleep'][df.Species == 'Okapi'] = 0.1\n",
    "# Have no info here, so let's guess it sleeps for 12 hours:\n",
    "df['TotalSleep'][df.Species == 'Yellow-belliedmarmot'] = 12"
   ]
  },
  {
   "cell_type": "markdown",
   "metadata": {},
   "source": [
    "### What animals sleep more than 11 hours per day:"
   ]
  },
  {
   "cell_type": "code",
   "execution_count": 93,
   "metadata": {
    "collapsed": false
   },
   "outputs": [
    {
     "data": {
      "text/plain": [
       "<matplotlib.axes._subplots.AxesSubplot at 0x158844f28>"
      ]
     },
     "execution_count": 93,
     "metadata": {},
     "output_type": "execute_result"
    },
    {
     "data": {
      "image/png": "[encoded data removed]",
      "text/plain": [
       "<matplotlib.figure.Figure at 0x1ba49eda0>"
      ]
     },
     "metadata": {},
     "output_type": "display_data"
    }
   ],
   "source": [
    "long_sleepers = df[df.TotalSleep > 11]\n",
    "sns.barplot(x=long_sleepers.TotalSleep, y=long_sleepers.Species)"
   ]
  },
  {
   "cell_type": "markdown",
   "metadata": {},
   "source": [
    "### What animals sleep less than 4 hours per day:"
   ]
  },
  {
   "cell_type": "code",
   "execution_count": 98,
   "metadata": {
    "collapsed": false
   },
   "outputs": [
    {
     "data": {
      "text/plain": [
       "<matplotlib.axes._subplots.AxesSubplot at 0x1581f8940>"
      ]
     },
     "execution_count": 98,
     "metadata": {},
     "output_type": "execute_result"
    },
    {
     "data": {
      "image/png": "[encoded data removed]",
      "text/plain": [
       "<matplotlib.figure.Figure at 0x1ba1ce780>"
      ]
     },
     "metadata": {},
     "output_type": "display_data"
    }
   ],
   "source": [
    "short_sleepers = df[df.TotalSleep < 4]\n",
    "sns.barplot(x=short_sleepers.TotalSleep, y=short_sleepers.Species)"
   ]
  },
  {
   "cell_type": "code",
   "execution_count": null,
   "metadata": {
    "collapsed": true
   },
   "outputs": [],
   "source": []
  }
 ],
 "metadata": {
  "kernelspec": {
   "display_name": "Python 3",
   "language": "python",
   "name": "python3"
  },
  "language_info": {
   "codemirror_mode": {
    "name": "ipython",
    "version": 3
   },
   "file_extension": ".py",
   "mimetype": "text/x-python",
   "name": "python",
   "nbconvert_exporter": "python",
   "pygments_lexer": "ipython3",
   "version": "3.5.1"
  }
 },
 "nbformat": 4,
 "nbformat_minor": 0
}
